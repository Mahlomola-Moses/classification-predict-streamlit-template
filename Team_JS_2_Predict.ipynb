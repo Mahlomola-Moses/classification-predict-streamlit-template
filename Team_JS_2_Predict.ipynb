{
 "cells": [
  {
   "cell_type": "markdown",
   "metadata": {},
   "source": [
    "## Climate Change Belief Analysis\n",
    "### By Team_JS_2_EDSA"
   ]
  },
  {
   "cell_type": "markdown",
   "metadata": {},
   "source": [
    "# 1: Introduction\n",
    "\n",
    "Many companies are built around lessening one’s environmental impact or carbon footprint. They offer products and services that are environmentally friendly and sustainable, in line with their values and ideals. They would like to determine how people perceive climate change and whether or not they believe it is a real threat. This would add to their market research efforts in gauging how their product/service may be received.\n",
    "\n",
    "With this context, EDSA is challenging you during the Classification Sprint with the task of creating a Machine Learning model that is able to classify whether or not a person believes in climate change, based on their novel tweet data.\n",
    "\n",
    "Providing an accurate and robust solution to this task gives companies access to a broad base of consumer sentiment, spanning multiple demographic and geographic categories - thus increasing their insights and informing future marketing strategies."
   ]
  },
  {
   "cell_type": "markdown",
   "metadata": {},
   "source": [
    "This predict layout as follows:\n",
    "\n",
    "    1. Introduction\n",
    "    2. Import libraries and load data\n",
    "    3. Data pre-processing\n",
    "    4. Exploratory Data Analysis\n",
    "    5. Building models\n",
    "    6. Best model\n",
    "    7. Conclusion\n",
    "    8. Submission"
   ]
  },
  {
   "cell_type": "markdown",
   "metadata": {
    "papermill": {
     "duration": 0.020478,
     "end_time": "2020-10-17T17:14:41.333242",
     "exception": false,
     "start_time": "2020-10-17T17:14:41.312764",
     "status": "completed"
    },
    "tags": []
   },
   "source": [
    "# 2: Import libraries and load data"
   ]
  },
  {
   "cell_type": "code",
   "execution_count": 1,
   "metadata": {},
   "outputs": [],
   "source": [
    "from comet_ml import Experiment"
   ]
  },
  {
   "cell_type": "code",
   "execution_count": 120,
   "metadata": {},
   "outputs": [
    {
     "name": "stderr",
     "output_type": "stream",
     "text": [
      "COMET WARNING: As you are running in a Jupyter environment, you will need to call `experiment.end()` when finished to ensure all metrics and code are logged before exiting.\n",
      "COMET INFO: Experiment is live on comet.ml https://www.comet.ml/daniel-bru/classification-predict/3c872cad52b846d0977d9d93ef2bcb52\n",
      "\n"
     ]
    }
   ],
   "source": [
    "# Run to allow Comet to log the parameters of the models and output of cells.\n",
    "experiment = Experiment(api_key=\"amGQj1TC3Wyk9LYf7bD9xNV6G\",\n",
    "                        project_name=\"classification-predict\",\n",
    "                        workspace=\"daniel-bru\",\n",
    ")"
   ]
  },
  {
   "cell_type": "code",
   "execution_count": 266,
   "metadata": {
    "execution": {
     "iopub.execute_input": "2020-10-17T17:14:41.390558Z",
     "iopub.status.busy": "2020-10-17T17:14:41.389678Z",
     "iopub.status.idle": "2020-10-17T17:14:43.151540Z",
     "shell.execute_reply": "2020-10-17T17:14:43.150711Z"
    },
    "papermill": {
     "duration": 1.795735,
     "end_time": "2020-10-17T17:14:43.151667",
     "exception": false,
     "start_time": "2020-10-17T17:14:41.355932",
     "status": "completed"
    },
    "tags": []
   },
   "outputs": [],
   "source": [
    "# Standard\n",
    "import pandas as pd\n",
    "import numpy as np\n",
    "import time\n",
    "import seaborn as sns\n",
    "import matplotlib.pyplot as plt\n",
    "%matplotlib inline\n",
    "\n",
    "# Natural language Processing\n",
    "import nltk\n",
    "import string\n",
    "import re\n",
    "from sklearn.utils import resample\n",
    "from nltk.stem import WordNetLemmatizer\n",
    "from nltk.corpus import stopwords\n",
    "from sklearn.pipeline import Pipeline\n",
    "from sklearn.feature_extraction.text import TfidfVectorizer\n",
    "\n",
    "# Models\n",
    "from sklearn.svm import LinearSVC\n",
    "from sklearn.naive_bayes import MultinomialNB\n",
    "from sklearn.tree import DecisionTreeClassifier\n",
    "from sklearn.neighbors import KNeighborsClassifier\n",
    "from sklearn.model_selection import train_test_split, KFold\n",
    "from sklearn.linear_model import LogisticRegression, SGDClassifier, RidgeClassifier\n",
    "from sklearn.model_selection import cross_val_score, GridSearchCV, RepeatedStratifiedKFold\n",
    "from sklearn.ensemble import RandomForestClassifier, AdaBoostClassifier, ExtraTreesClassifier, StackingClassifier\n",
    "\n",
    "# Performance\n",
    "from sklearn.metrics import f1_score\n",
    "from sklearn import metrics\n",
    "\n",
    "# Saving\n",
    "import pickle\n"
   ]
  },
  {
   "cell_type": "markdown",
   "metadata": {
    "papermill": {
     "duration": 0.020904,
     "end_time": "2020-10-17T17:14:43.194735",
     "exception": false,
     "start_time": "2020-10-17T17:14:43.173831",
     "status": "completed"
    },
    "tags": []
   },
   "source": [
    "## The data\n",
    "\n",
    "The collection of this data was funded by a Canada Foundation for Innovation JELF Grant to Chris Bauch, University of Waterloo. The dataset aggregates tweets pertaining to climate change collected between Apr 27, 2015 and Feb 21, 2018!\n",
    "\n",
    "In total, 43943 tweets were collected. Each tweet is labelled as one of the following classes: 2, 1, 0, -1\n",
    "\n",
    "**Class Description:**\n",
    "\n",
    "- 2 News: the tweet links to factual news about climate change\n",
    "\n",
    "- 1 Pro: the tweet supports the belief of man-made climate change\n",
    "\n",
    "- 0 Neutral: the tweet neither supports nor refutes the belief of man-made climate change\n",
    "\n",
    "- -1 Anti: the tweet does not believe in man-made climate change Variable definitions\n",
    "\n",
    "**Columns:**\n",
    "\n",
    "- sentiment: Sentiment of tweet\n",
    "\n",
    "- message: Tweet body\n",
    "\n",
    "- tweetid: Twitter unique id"
   ]
  },
  {
   "cell_type": "code",
   "execution_count": 4,
   "metadata": {
    "execution": {
     "iopub.execute_input": "2020-10-17T17:14:43.249864Z",
     "iopub.status.busy": "2020-10-17T17:14:43.249158Z",
     "iopub.status.idle": "2020-10-17T17:14:43.338592Z",
     "shell.execute_reply": "2020-10-17T17:14:43.337915Z"
    },
    "papermill": {
     "duration": 0.122327,
     "end_time": "2020-10-17T17:14:43.338718",
     "exception": false,
     "start_time": "2020-10-17T17:14:43.216391",
     "status": "completed"
    },
    "tags": []
   },
   "outputs": [],
   "source": [
    "#Loading data and view first few rows\n",
    "train = pd.read_csv(\"train.csv\")\n",
    "test = pd.read_csv(\"test_with_no_labels.csv\")"
   ]
  },
  {
   "cell_type": "code",
   "execution_count": 5,
   "metadata": {},
   "outputs": [
    {
     "data": {
      "text/html": [
       "<div>\n",
       "<style scoped>\n",
       "    .dataframe tbody tr th:only-of-type {\n",
       "        vertical-align: middle;\n",
       "    }\n",
       "\n",
       "    .dataframe tbody tr th {\n",
       "        vertical-align: top;\n",
       "    }\n",
       "\n",
       "    .dataframe thead th {\n",
       "        text-align: right;\n",
       "    }\n",
       "</style>\n",
       "<table border=\"1\" class=\"dataframe\">\n",
       "  <thead>\n",
       "    <tr style=\"text-align: right;\">\n",
       "      <th></th>\n",
       "      <th>sentiment</th>\n",
       "      <th>message</th>\n",
       "      <th>tweetid</th>\n",
       "    </tr>\n",
       "  </thead>\n",
       "  <tbody>\n",
       "    <tr>\n",
       "      <th>0</th>\n",
       "      <td>1</td>\n",
       "      <td>PolySciMajor EPA chief doesn't think carbon di...</td>\n",
       "      <td>625221</td>\n",
       "    </tr>\n",
       "    <tr>\n",
       "      <th>1</th>\n",
       "      <td>1</td>\n",
       "      <td>It's not like we lack evidence of anthropogeni...</td>\n",
       "      <td>126103</td>\n",
       "    </tr>\n",
       "    <tr>\n",
       "      <th>2</th>\n",
       "      <td>2</td>\n",
       "      <td>RT @RawStory: Researchers say we have three ye...</td>\n",
       "      <td>698562</td>\n",
       "    </tr>\n",
       "    <tr>\n",
       "      <th>3</th>\n",
       "      <td>1</td>\n",
       "      <td>#TodayinMaker# WIRED : 2016 was a pivotal year...</td>\n",
       "      <td>573736</td>\n",
       "    </tr>\n",
       "    <tr>\n",
       "      <th>4</th>\n",
       "      <td>1</td>\n",
       "      <td>RT @SoyNovioDeTodas: It's 2016, and a racist, ...</td>\n",
       "      <td>466954</td>\n",
       "    </tr>\n",
       "    <tr>\n",
       "      <th>...</th>\n",
       "      <td>...</td>\n",
       "      <td>...</td>\n",
       "      <td>...</td>\n",
       "    </tr>\n",
       "    <tr>\n",
       "      <th>15814</th>\n",
       "      <td>1</td>\n",
       "      <td>RT @ezlusztig: They took down the material on ...</td>\n",
       "      <td>22001</td>\n",
       "    </tr>\n",
       "    <tr>\n",
       "      <th>15815</th>\n",
       "      <td>2</td>\n",
       "      <td>RT @washingtonpost: How climate change could b...</td>\n",
       "      <td>17856</td>\n",
       "    </tr>\n",
       "    <tr>\n",
       "      <th>15816</th>\n",
       "      <td>0</td>\n",
       "      <td>notiven: RT: nytimesworld :What does Trump act...</td>\n",
       "      <td>384248</td>\n",
       "    </tr>\n",
       "    <tr>\n",
       "      <th>15817</th>\n",
       "      <td>-1</td>\n",
       "      <td>RT @sara8smiles: Hey liberals the climate chan...</td>\n",
       "      <td>819732</td>\n",
       "    </tr>\n",
       "    <tr>\n",
       "      <th>15818</th>\n",
       "      <td>0</td>\n",
       "      <td>RT @Chet_Cannon: .@kurteichenwald's 'climate c...</td>\n",
       "      <td>806319</td>\n",
       "    </tr>\n",
       "  </tbody>\n",
       "</table>\n",
       "<p>15819 rows × 3 columns</p>\n",
       "</div>"
      ],
      "text/plain": [
       "       sentiment                                            message  tweetid\n",
       "0              1  PolySciMajor EPA chief doesn't think carbon di...   625221\n",
       "1              1  It's not like we lack evidence of anthropogeni...   126103\n",
       "2              2  RT @RawStory: Researchers say we have three ye...   698562\n",
       "3              1  #TodayinMaker# WIRED : 2016 was a pivotal year...   573736\n",
       "4              1  RT @SoyNovioDeTodas: It's 2016, and a racist, ...   466954\n",
       "...          ...                                                ...      ...\n",
       "15814          1  RT @ezlusztig: They took down the material on ...    22001\n",
       "15815          2  RT @washingtonpost: How climate change could b...    17856\n",
       "15816          0  notiven: RT: nytimesworld :What does Trump act...   384248\n",
       "15817         -1  RT @sara8smiles: Hey liberals the climate chan...   819732\n",
       "15818          0  RT @Chet_Cannon: .@kurteichenwald's 'climate c...   806319\n",
       "\n",
       "[15819 rows x 3 columns]"
      ]
     },
     "execution_count": 5,
     "metadata": {},
     "output_type": "execute_result"
    }
   ],
   "source": [
    "train"
   ]
  },
  {
   "cell_type": "code",
   "execution_count": 6,
   "metadata": {},
   "outputs": [
    {
     "data": {
      "text/html": [
       "<div>\n",
       "<style scoped>\n",
       "    .dataframe tbody tr th:only-of-type {\n",
       "        vertical-align: middle;\n",
       "    }\n",
       "\n",
       "    .dataframe tbody tr th {\n",
       "        vertical-align: top;\n",
       "    }\n",
       "\n",
       "    .dataframe thead th {\n",
       "        text-align: right;\n",
       "    }\n",
       "</style>\n",
       "<table border=\"1\" class=\"dataframe\">\n",
       "  <thead>\n",
       "    <tr style=\"text-align: right;\">\n",
       "      <th></th>\n",
       "      <th>message</th>\n",
       "      <th>tweetid</th>\n",
       "    </tr>\n",
       "  </thead>\n",
       "  <tbody>\n",
       "    <tr>\n",
       "      <th>0</th>\n",
       "      <td>Europe will now be looking to China to make su...</td>\n",
       "      <td>169760</td>\n",
       "    </tr>\n",
       "    <tr>\n",
       "      <th>1</th>\n",
       "      <td>Combine this with the polling of staffers re c...</td>\n",
       "      <td>35326</td>\n",
       "    </tr>\n",
       "    <tr>\n",
       "      <th>2</th>\n",
       "      <td>The scary, unimpeachable evidence that climate...</td>\n",
       "      <td>224985</td>\n",
       "    </tr>\n",
       "    <tr>\n",
       "      <th>3</th>\n",
       "      <td>@Karoli @morgfair @OsborneInk @dailykos \\nPuti...</td>\n",
       "      <td>476263</td>\n",
       "    </tr>\n",
       "    <tr>\n",
       "      <th>4</th>\n",
       "      <td>RT @FakeWillMoore: 'Female orgasms cause globa...</td>\n",
       "      <td>872928</td>\n",
       "    </tr>\n",
       "    <tr>\n",
       "      <th>...</th>\n",
       "      <td>...</td>\n",
       "      <td>...</td>\n",
       "    </tr>\n",
       "    <tr>\n",
       "      <th>10541</th>\n",
       "      <td>RT @BrittanyBohrer: Brb, writing a poem about ...</td>\n",
       "      <td>895714</td>\n",
       "    </tr>\n",
       "    <tr>\n",
       "      <th>10542</th>\n",
       "      <td>2016: the year climate change came home: Durin...</td>\n",
       "      <td>875167</td>\n",
       "    </tr>\n",
       "    <tr>\n",
       "      <th>10543</th>\n",
       "      <td>RT @loop_vanuatu: Pacific countries positive a...</td>\n",
       "      <td>78329</td>\n",
       "    </tr>\n",
       "    <tr>\n",
       "      <th>10544</th>\n",
       "      <td>RT @xanria_00018: You’re so hot, you must be t...</td>\n",
       "      <td>867455</td>\n",
       "    </tr>\n",
       "    <tr>\n",
       "      <th>10545</th>\n",
       "      <td>RT @chloebalaoing: climate change is a global ...</td>\n",
       "      <td>470892</td>\n",
       "    </tr>\n",
       "  </tbody>\n",
       "</table>\n",
       "<p>10546 rows × 2 columns</p>\n",
       "</div>"
      ],
      "text/plain": [
       "                                                 message  tweetid\n",
       "0      Europe will now be looking to China to make su...   169760\n",
       "1      Combine this with the polling of staffers re c...    35326\n",
       "2      The scary, unimpeachable evidence that climate...   224985\n",
       "3      @Karoli @morgfair @OsborneInk @dailykos \\nPuti...   476263\n",
       "4      RT @FakeWillMoore: 'Female orgasms cause globa...   872928\n",
       "...                                                  ...      ...\n",
       "10541  RT @BrittanyBohrer: Brb, writing a poem about ...   895714\n",
       "10542  2016: the year climate change came home: Durin...   875167\n",
       "10543  RT @loop_vanuatu: Pacific countries positive a...    78329\n",
       "10544  RT @xanria_00018: You’re so hot, you must be t...   867455\n",
       "10545  RT @chloebalaoing: climate change is a global ...   470892\n",
       "\n",
       "[10546 rows x 2 columns]"
      ]
     },
     "execution_count": 6,
     "metadata": {},
     "output_type": "execute_result"
    }
   ],
   "source": [
    "test"
   ]
  },
  {
   "cell_type": "markdown",
   "metadata": {},
   "source": [
    "# 3: Preprocessing"
   ]
  },
  {
   "cell_type": "markdown",
   "metadata": {},
   "source": [
    "## 3.1 - Let's do some data cleaning\n",
    "\n",
    "Function for cleaning the data:\n",
    "\n",
    "* Remove punctuations \n",
    "* Remove stop words\n",
    "* Lemmitazation "
   ]
  },
  {
   "cell_type": "code",
   "execution_count": 7,
   "metadata": {},
   "outputs": [],
   "source": [
    "#Cleaning all tweets by removing url-links, punctuation, digits, stopwords and Lemmatizing all the words.\n",
    "def clean_tweets(message):\n",
    "\n",
    "    # change all words into lower case\n",
    "    message = message.lower()\n",
    "\n",
    "    # replace all url-links with url-web\n",
    "    url = r'http[s]?://(?:[A-Za-z]|[0-9]|[$-_@.&+]|[!*\\(\\),]|(?:%[0-9A-Fa-f][0-9A-Fa-f]))+'\n",
    "    web = 'url-web'\n",
    "    message = re.sub(url, web, message)\n",
    "\n",
    "    # removing all punctuation and digits\n",
    "    message = re.sub(r'[-]',' ',message)\n",
    "    message = re.sub(r'[^\\w\\s]','',message)\n",
    "    message = re.sub('[0-9]+', '', message)\n",
    "\n",
    "    message = re.sub(\"â|ã\", \" \", message)  # removes strange character    \n",
    "    message = re.sub(\"\\\\s+\", \" \", message)  # fills white spaces\n",
    "    message = message.lstrip()  # removes whitespaces before string\n",
    "    message = message.rstrip()  # removes whitespaces after string \n",
    "    \n",
    "    # lemmatizing all words\n",
    "    message = message.lower()\n",
    "    lemmatizer = WordNetLemmatizer()\n",
    "    message = [lemmatizer.lemmatize(token) for token in message.split(\" \")]\n",
    "    message = [lemmatizer.lemmatize(token, \"v\") for token in message]\n",
    "    message = \" \".join(message)\n",
    "\n",
    "    return message"
   ]
  },
  {
   "cell_type": "code",
   "execution_count": 8,
   "metadata": {},
   "outputs": [],
   "source": [
    "%%time\n",
    "#Apply the clean function to our train and test data\n",
    "train['message_clean']=train['message'].apply(clean_tweets)\n",
    "\n",
    "test['message_clean']=test['message'].apply(clean_tweets)"
   ]
  },
  {
   "cell_type": "code",
   "execution_count": 9,
   "metadata": {},
   "outputs": [
    {
     "data": {
      "text/html": [
       "<div>\n",
       "<style scoped>\n",
       "    .dataframe tbody tr th:only-of-type {\n",
       "        vertical-align: middle;\n",
       "    }\n",
       "\n",
       "    .dataframe tbody tr th {\n",
       "        vertical-align: top;\n",
       "    }\n",
       "\n",
       "    .dataframe thead th {\n",
       "        text-align: right;\n",
       "    }\n",
       "</style>\n",
       "<table border=\"1\" class=\"dataframe\">\n",
       "  <thead>\n",
       "    <tr style=\"text-align: right;\">\n",
       "      <th></th>\n",
       "      <th>sentiment</th>\n",
       "      <th>message</th>\n",
       "      <th>tweetid</th>\n",
       "      <th>message_clean</th>\n",
       "    </tr>\n",
       "  </thead>\n",
       "  <tbody>\n",
       "    <tr>\n",
       "      <th>0</th>\n",
       "      <td>1</td>\n",
       "      <td>PolySciMajor EPA chief doesn't think carbon di...</td>\n",
       "      <td>625221</td>\n",
       "      <td>polyscimajor epa chief doesnt think carbon dio...</td>\n",
       "    </tr>\n",
       "    <tr>\n",
       "      <th>1</th>\n",
       "      <td>1</td>\n",
       "      <td>It's not like we lack evidence of anthropogeni...</td>\n",
       "      <td>126103</td>\n",
       "      <td>it not like we lack evidence of anthropogenic ...</td>\n",
       "    </tr>\n",
       "    <tr>\n",
       "      <th>2</th>\n",
       "      <td>2</td>\n",
       "      <td>RT @RawStory: Researchers say we have three ye...</td>\n",
       "      <td>698562</td>\n",
       "      <td>rt rawstory researcher say we have three year ...</td>\n",
       "    </tr>\n",
       "    <tr>\n",
       "      <th>3</th>\n",
       "      <td>1</td>\n",
       "      <td>#TodayinMaker# WIRED : 2016 was a pivotal year...</td>\n",
       "      <td>573736</td>\n",
       "      <td>todayinmaker wire wa a pivotal year in the war...</td>\n",
       "    </tr>\n",
       "    <tr>\n",
       "      <th>4</th>\n",
       "      <td>1</td>\n",
       "      <td>RT @SoyNovioDeTodas: It's 2016, and a racist, ...</td>\n",
       "      <td>466954</td>\n",
       "      <td>rt soynoviodetodas it and a racist sexist clim...</td>\n",
       "    </tr>\n",
       "  </tbody>\n",
       "</table>\n",
       "</div>"
      ],
      "text/plain": [
       "   sentiment                                            message  tweetid  \\\n",
       "0          1  PolySciMajor EPA chief doesn't think carbon di...   625221   \n",
       "1          1  It's not like we lack evidence of anthropogeni...   126103   \n",
       "2          2  RT @RawStory: Researchers say we have three ye...   698562   \n",
       "3          1  #TodayinMaker# WIRED : 2016 was a pivotal year...   573736   \n",
       "4          1  RT @SoyNovioDeTodas: It's 2016, and a racist, ...   466954   \n",
       "\n",
       "                                       message_clean  \n",
       "0  polyscimajor epa chief doesnt think carbon dio...  \n",
       "1  it not like we lack evidence of anthropogenic ...  \n",
       "2  rt rawstory researcher say we have three year ...  \n",
       "3  todayinmaker wire wa a pivotal year in the war...  \n",
       "4  rt soynoviodetodas it and a racist sexist clim...  "
      ]
     },
     "execution_count": 9,
     "metadata": {},
     "output_type": "execute_result"
    }
   ],
   "source": [
    "#Data after clean: Train\n",
    "train.head()"
   ]
  },
  {
   "cell_type": "code",
   "execution_count": 10,
   "metadata": {},
   "outputs": [
    {
     "data": {
      "text/html": [
       "<div>\n",
       "<style scoped>\n",
       "    .dataframe tbody tr th:only-of-type {\n",
       "        vertical-align: middle;\n",
       "    }\n",
       "\n",
       "    .dataframe tbody tr th {\n",
       "        vertical-align: top;\n",
       "    }\n",
       "\n",
       "    .dataframe thead th {\n",
       "        text-align: right;\n",
       "    }\n",
       "</style>\n",
       "<table border=\"1\" class=\"dataframe\">\n",
       "  <thead>\n",
       "    <tr style=\"text-align: right;\">\n",
       "      <th></th>\n",
       "      <th>message</th>\n",
       "      <th>tweetid</th>\n",
       "      <th>message_clean</th>\n",
       "    </tr>\n",
       "  </thead>\n",
       "  <tbody>\n",
       "    <tr>\n",
       "      <th>0</th>\n",
       "      <td>Europe will now be looking to China to make su...</td>\n",
       "      <td>169760</td>\n",
       "      <td>europe will now be look to china to make sure ...</td>\n",
       "    </tr>\n",
       "    <tr>\n",
       "      <th>1</th>\n",
       "      <td>Combine this with the polling of staffers re c...</td>\n",
       "      <td>35326</td>\n",
       "      <td>combine this with the poll of staffer re clima...</td>\n",
       "    </tr>\n",
       "    <tr>\n",
       "      <th>2</th>\n",
       "      <td>The scary, unimpeachable evidence that climate...</td>\n",
       "      <td>224985</td>\n",
       "      <td>the scary unimpeachable evidence that climate ...</td>\n",
       "    </tr>\n",
       "    <tr>\n",
       "      <th>3</th>\n",
       "      <td>@Karoli @morgfair @OsborneInk @dailykos \\nPuti...</td>\n",
       "      <td>476263</td>\n",
       "      <td>karoli morgfair osborneink dailykos putin get ...</td>\n",
       "    </tr>\n",
       "    <tr>\n",
       "      <th>4</th>\n",
       "      <td>RT @FakeWillMoore: 'Female orgasms cause globa...</td>\n",
       "      <td>872928</td>\n",
       "      <td>rt fakewillmoore female orgasm cause global wa...</td>\n",
       "    </tr>\n",
       "  </tbody>\n",
       "</table>\n",
       "</div>"
      ],
      "text/plain": [
       "                                             message  tweetid  \\\n",
       "0  Europe will now be looking to China to make su...   169760   \n",
       "1  Combine this with the polling of staffers re c...    35326   \n",
       "2  The scary, unimpeachable evidence that climate...   224985   \n",
       "3  @Karoli @morgfair @OsborneInk @dailykos \\nPuti...   476263   \n",
       "4  RT @FakeWillMoore: 'Female orgasms cause globa...   872928   \n",
       "\n",
       "                                       message_clean  \n",
       "0  europe will now be look to china to make sure ...  \n",
       "1  combine this with the poll of staffer re clima...  \n",
       "2  the scary unimpeachable evidence that climate ...  \n",
       "3  karoli morgfair osborneink dailykos putin get ...  \n",
       "4  rt fakewillmoore female orgasm cause global wa...  "
      ]
     },
     "execution_count": 10,
     "metadata": {},
     "output_type": "execute_result"
    }
   ],
   "source": [
    "#Data after clean: Test\n",
    "test.head()"
   ]
  },
  {
   "cell_type": "markdown",
   "metadata": {},
   "source": [
    "## 3.2 - Let's see if there is a imbalance in the data"
   ]
  },
  {
   "cell_type": "code",
   "execution_count": 9,
   "metadata": {},
   "outputs": [
    {
     "data": {
      "text/plain": [
       " 1    8530\n",
       " 2    3640\n",
       " 0    2353\n",
       "-1    1296\n",
       "Name: sentiment, dtype: int64"
      ]
     },
     "execution_count": 9,
     "metadata": {},
     "output_type": "execute_result"
    }
   ],
   "source": [
    "#Count of data entries for different sentiments\n",
    "train.sentiment.value_counts()"
   ]
  },
  {
   "cell_type": "code",
   "execution_count": 10,
   "metadata": {},
   "outputs": [
    {
     "name": "stderr",
     "output_type": "stream",
     "text": [
      "C:\\Users\\Daniel\\anaconda3\\lib\\site-packages\\seaborn\\_decorators.py:36: FutureWarning: Pass the following variable as a keyword arg: x. From version 0.12, the only valid positional argument will be `data`, and passing other arguments without an explicit keyword will result in an error or misinterpretation.\n",
      "  warnings.warn(\n"
     ]
    },
    {
     "data": {
      "text/plain": [
       "<AxesSubplot:xlabel='sentiment', ylabel='count'>"
      ]
     },
     "execution_count": 10,
     "metadata": {},
     "output_type": "execute_result"
    },
    {
     "data": {
      "image/png": "[encoded data removed]",
      "text/plain": [
       "<Figure size 432x288 with 1 Axes>"
      ]
     },
     "metadata": {
      "needs_background": "light"
     },
     "output_type": "display_data"
    }
   ],
   "source": [
    "#View class distribution to confirm balance/imbalance\n",
    "sns.countplot(train['sentiment'])"
   ]
  },
  {
   "cell_type": "markdown",
   "metadata": {},
   "source": []
  },
  {
   "cell_type": "markdown",
   "metadata": {
    "papermill": {
     "duration": 0.021277,
     "end_time": "2020-10-17T17:14:43.381686",
     "exception": false,
     "start_time": "2020-10-17T17:14:43.360409",
     "status": "completed"
    },
    "tags": []
   },
   "source": [
    "## Balancing the data\n",
    "\n",
    "There is a different ways of balancing data:\n",
    "\n",
    "- 1: Resampling\n",
    "- 2: SMOTE"
   ]
  },
  {
   "cell_type": "code",
   "execution_count": 248,
   "metadata": {
    "execution": {
     "iopub.execute_input": "2020-10-17T17:14:43.434368Z",
     "iopub.status.busy": "2020-10-17T17:14:43.433628Z",
     "iopub.status.idle": "2020-10-17T17:14:43.458764Z",
     "shell.execute_reply": "2020-10-17T17:14:43.459367Z"
    },
    "papermill": {
     "duration": 0.056892,
     "end_time": "2020-10-17T17:14:43.459515",
     "exception": false,
     "start_time": "2020-10-17T17:14:43.402623",
     "status": "completed"
    },
    "tags": []
   },
   "outputs": [],
   "source": [
    "#Applying each sentiment to their own data frame\n",
    "news = train[train['sentiment'] == 2]\n",
    "pro = train[train['sentiment'] == 1]\n",
    "neutral = train[train['sentiment'] == 0]\n",
    "anti = train[train['sentiment'] == -1]"
   ]
  },
  {
   "cell_type": "code",
   "execution_count": 249,
   "metadata": {
    "execution": {
     "iopub.execute_input": "2020-10-17T17:14:43.512023Z",
     "iopub.status.busy": "2020-10-17T17:14:43.511007Z",
     "iopub.status.idle": "2020-10-17T17:14:43.518704Z",
     "shell.execute_reply": "2020-10-17T17:14:43.519354Z"
    },
    "papermill": {
     "duration": 0.03854,
     "end_time": "2020-10-17T17:14:43.519527",
     "exception": false,
     "start_time": "2020-10-17T17:14:43.480987",
     "status": "completed"
    },
    "tags": []
   },
   "outputs": [],
   "source": [
    "#Applying the resampling method to the data\n",
    "news_upsampled = resample(news, replace=True, n_samples=len(pro), random_state=27)\n",
    "neutral_upsampled = resample(neutral, replace=True, n_samples=len(pro), random_state=27)\n",
    "anti_upsampled = resample(anti, replace=True, n_samples=len(pro), random_state=27)"
   ]
  },
  {
   "cell_type": "markdown",
   "metadata": {
    "papermill": {
     "duration": 0.021152,
     "end_time": "2020-10-17T17:14:43.562922",
     "exception": false,
     "start_time": "2020-10-17T17:14:43.541770",
     "status": "completed"
    },
    "tags": []
   },
   "source": [
    "**Combine majority and new upsampled minority**"
   ]
  },
  {
   "cell_type": "code",
   "execution_count": 250,
   "metadata": {
    "execution": {
     "iopub.execute_input": "2020-10-17T17:14:43.613460Z",
     "iopub.status.busy": "2020-10-17T17:14:43.612719Z",
     "iopub.status.idle": "2020-10-17T17:14:43.618806Z",
     "shell.execute_reply": "2020-10-17T17:14:43.618146Z"
    },
    "papermill": {
     "duration": 0.034916,
     "end_time": "2020-10-17T17:14:43.618932",
     "exception": false,
     "start_time": "2020-10-17T17:14:43.584016",
     "status": "completed"
    },
    "tags": []
   },
   "outputs": [],
   "source": [
    "#New upsampled train dataframe\n",
    "df_upsampled = pd.concat([pro, news_upsampled, neutral_upsampled, anti_upsampled])"
   ]
  },
  {
   "cell_type": "code",
   "execution_count": 251,
   "metadata": {
    "execution": {
     "iopub.execute_input": "2020-10-17T17:14:43.667842Z",
     "iopub.status.busy": "2020-10-17T17:14:43.667116Z",
     "iopub.status.idle": "2020-10-17T17:14:43.674890Z",
     "shell.execute_reply": "2020-10-17T17:14:43.675425Z"
    },
    "papermill": {
     "duration": 0.034649,
     "end_time": "2020-10-17T17:14:43.675567",
     "exception": false,
     "start_time": "2020-10-17T17:14:43.640918",
     "status": "completed"
    },
    "tags": []
   },
   "outputs": [
    {
     "data": {
      "text/plain": [
       " 0    8530\n",
       " 1    8530\n",
       " 2    8530\n",
       "-1    8530\n",
       "Name: sentiment, dtype: int64"
      ]
     },
     "execution_count": 251,
     "metadata": {},
     "output_type": "execute_result"
    }
   ],
   "source": [
    "df_upsampled.sentiment.value_counts()"
   ]
  },
  {
   "cell_type": "code",
   "execution_count": 265,
   "metadata": {},
   "outputs": [
    {
     "name": "stderr",
     "output_type": "stream",
     "text": [
      "C:\\Users\\Daniel\\anaconda3\\lib\\site-packages\\seaborn\\_decorators.py:36: FutureWarning: Pass the following variable as a keyword arg: x. From version 0.12, the only valid positional argument will be `data`, and passing other arguments without an explicit keyword will result in an error or misinterpretation.\n",
      "  warnings.warn(\n"
     ]
    },
    {
     "data": {
      "text/plain": [
       "<AxesSubplot:xlabel='sentiment', ylabel='count'>"
      ]
     },
     "execution_count": 265,
     "metadata": {},
     "output_type": "execute_result"
    },
    {
     "data": {
      "image/png": "[encoded data removed]",
      "text/plain": [
       "<Figure size 432x288 with 1 Axes>"
      ]
     },
     "metadata": {
      "needs_background": "light"
     },
     "output_type": "display_data"
    }
   ],
   "source": [
    "sns.countplot(df_upsampled['sentiment'])"
   ]
  },
  {
   "cell_type": "code",
   "execution_count": 16,
   "metadata": {
    "execution": {
     "iopub.execute_input": "2020-10-17T17:14:43.731244Z",
     "iopub.status.busy": "2020-10-17T17:14:43.730562Z",
     "iopub.status.idle": "2020-10-17T17:14:43.741269Z",
     "shell.execute_reply": "2020-10-17T17:14:43.740705Z"
    },
    "papermill": {
     "duration": 0.043048,
     "end_time": "2020-10-17T17:14:43.741396",
     "exception": false,
     "start_time": "2020-10-17T17:14:43.698348",
     "status": "completed"
    },
    "tags": []
   },
   "outputs": [
    {
     "data": {
      "text/html": [
       "<div>\n",
       "<style scoped>\n",
       "    .dataframe tbody tr th:only-of-type {\n",
       "        vertical-align: middle;\n",
       "    }\n",
       "\n",
       "    .dataframe tbody tr th {\n",
       "        vertical-align: top;\n",
       "    }\n",
       "\n",
       "    .dataframe thead th {\n",
       "        text-align: right;\n",
       "    }\n",
       "</style>\n",
       "<table border=\"1\" class=\"dataframe\">\n",
       "  <thead>\n",
       "    <tr style=\"text-align: right;\">\n",
       "      <th></th>\n",
       "      <th>sentiment</th>\n",
       "      <th>message</th>\n",
       "      <th>tweetid</th>\n",
       "      <th>message_clean</th>\n",
       "    </tr>\n",
       "  </thead>\n",
       "  <tbody>\n",
       "    <tr>\n",
       "      <th>0</th>\n",
       "      <td>1</td>\n",
       "      <td>PolySciMajor EPA chief doesn't think carbon di...</td>\n",
       "      <td>625221</td>\n",
       "      <td>polyscimajor epa chief doesnt think carbon dio...</td>\n",
       "    </tr>\n",
       "    <tr>\n",
       "      <th>1</th>\n",
       "      <td>1</td>\n",
       "      <td>It's not like we lack evidence of anthropogeni...</td>\n",
       "      <td>126103</td>\n",
       "      <td>it not like we lack evidence of anthropogenic ...</td>\n",
       "    </tr>\n",
       "    <tr>\n",
       "      <th>3</th>\n",
       "      <td>1</td>\n",
       "      <td>#TodayinMaker# WIRED : 2016 was a pivotal year...</td>\n",
       "      <td>573736</td>\n",
       "      <td>todayinmaker wire wa a pivotal year in the war...</td>\n",
       "    </tr>\n",
       "    <tr>\n",
       "      <th>4</th>\n",
       "      <td>1</td>\n",
       "      <td>RT @SoyNovioDeTodas: It's 2016, and a racist, ...</td>\n",
       "      <td>466954</td>\n",
       "      <td>rt soynoviodetodas it and a racist sexist clim...</td>\n",
       "    </tr>\n",
       "    <tr>\n",
       "      <th>5</th>\n",
       "      <td>1</td>\n",
       "      <td>Worth a read whether you do or don't believe i...</td>\n",
       "      <td>425577</td>\n",
       "      <td>worth a read whether you do or dont believe in...</td>\n",
       "    </tr>\n",
       "    <tr>\n",
       "      <th>...</th>\n",
       "      <td>...</td>\n",
       "      <td>...</td>\n",
       "      <td>...</td>\n",
       "      <td>...</td>\n",
       "    </tr>\n",
       "    <tr>\n",
       "      <th>5422</th>\n",
       "      <td>-1</td>\n",
       "      <td>RT @worldnetdaily: Sorry global warming liars....</td>\n",
       "      <td>857394</td>\n",
       "      <td>rt worldnetdaily sorry global warm liar arctic...</td>\n",
       "    </tr>\n",
       "    <tr>\n",
       "      <th>11148</th>\n",
       "      <td>-1</td>\n",
       "      <td>RT @charlesadler: #Trudeau gov now admitting l...</td>\n",
       "      <td>509562</td>\n",
       "      <td>rt charlesadler trudeau gov now admit long ter...</td>\n",
       "    </tr>\n",
       "    <tr>\n",
       "      <th>11428</th>\n",
       "      <td>-1</td>\n",
       "      <td>That would be a natural storm and of course po...</td>\n",
       "      <td>158073</td>\n",
       "      <td>that would be a natural storm and of course po...</td>\n",
       "    </tr>\n",
       "    <tr>\n",
       "      <th>1341</th>\n",
       "      <td>-1</td>\n",
       "      <td>RT @TheFoundingSon: NOAA scientists manipulate...</td>\n",
       "      <td>905959</td>\n",
       "      <td>rt thefoundingson noaa scientist manipulate te...</td>\n",
       "    </tr>\n",
       "    <tr>\n",
       "      <th>12283</th>\n",
       "      <td>-1</td>\n",
       "      <td>Al Gore just told the most incredibly bold-fac...</td>\n",
       "      <td>159195</td>\n",
       "      <td>al gore just tell the most incredibly bold fac...</td>\n",
       "    </tr>\n",
       "  </tbody>\n",
       "</table>\n",
       "<p>34120 rows × 4 columns</p>\n",
       "</div>"
      ],
      "text/plain": [
       "       sentiment                                            message  tweetid  \\\n",
       "0              1  PolySciMajor EPA chief doesn't think carbon di...   625221   \n",
       "1              1  It's not like we lack evidence of anthropogeni...   126103   \n",
       "3              1  #TodayinMaker# WIRED : 2016 was a pivotal year...   573736   \n",
       "4              1  RT @SoyNovioDeTodas: It's 2016, and a racist, ...   466954   \n",
       "5              1  Worth a read whether you do or don't believe i...   425577   \n",
       "...          ...                                                ...      ...   \n",
       "5422          -1  RT @worldnetdaily: Sorry global warming liars....   857394   \n",
       "11148         -1  RT @charlesadler: #Trudeau gov now admitting l...   509562   \n",
       "11428         -1  That would be a natural storm and of course po...   158073   \n",
       "1341          -1  RT @TheFoundingSon: NOAA scientists manipulate...   905959   \n",
       "12283         -1  Al Gore just told the most incredibly bold-fac...   159195   \n",
       "\n",
       "                                           message_clean  \n",
       "0      polyscimajor epa chief doesnt think carbon dio...  \n",
       "1      it not like we lack evidence of anthropogenic ...  \n",
       "3      todayinmaker wire wa a pivotal year in the war...  \n",
       "4      rt soynoviodetodas it and a racist sexist clim...  \n",
       "5      worth a read whether you do or dont believe in...  \n",
       "...                                                  ...  \n",
       "5422   rt worldnetdaily sorry global warm liar arctic...  \n",
       "11148  rt charlesadler trudeau gov now admit long ter...  \n",
       "11428  that would be a natural storm and of course po...  \n",
       "1341   rt thefoundingson noaa scientist manipulate te...  \n",
       "12283  al gore just tell the most incredibly bold fac...  \n",
       "\n",
       "[34120 rows x 4 columns]"
      ]
     },
     "execution_count": 16,
     "metadata": {},
     "output_type": "execute_result"
    }
   ],
   "source": [
    "df_upsampled"
   ]
  },
  {
   "cell_type": "markdown",
   "metadata": {},
   "source": [
    "# 4: Exploratory Data Analysis\n",
    "\n",
    "- Make use of seaborn, wordcloud and matplotlib"
   ]
  },
  {
   "cell_type": "markdown",
   "metadata": {},
   "source": [
    "## 4.1: Extract Hashtags"
   ]
  },
  {
   "cell_type": "code",
   "execution_count": null,
   "metadata": {},
   "outputs": [],
   "source": []
  },
  {
   "cell_type": "code",
   "execution_count": null,
   "metadata": {},
   "outputs": [],
   "source": []
  },
  {
   "cell_type": "markdown",
   "metadata": {},
   "source": [
    "## 4.2: Extract Frequently used words"
   ]
  },
  {
   "cell_type": "code",
   "execution_count": null,
   "metadata": {},
   "outputs": [],
   "source": []
  },
  {
   "cell_type": "code",
   "execution_count": null,
   "metadata": {},
   "outputs": [],
   "source": []
  },
  {
   "cell_type": "markdown",
   "metadata": {},
   "source": [
    "## 4.3: Named entity extraction "
   ]
  },
  {
   "cell_type": "code",
   "execution_count": null,
   "metadata": {},
   "outputs": [],
   "source": []
  },
  {
   "cell_type": "code",
   "execution_count": null,
   "metadata": {},
   "outputs": [],
   "source": []
  },
  {
   "cell_type": "markdown",
   "metadata": {},
   "source": [
    "## 4.4: Create graphs"
   ]
  },
  {
   "cell_type": "code",
   "execution_count": null,
   "metadata": {},
   "outputs": [],
   "source": []
  },
  {
   "cell_type": "code",
   "execution_count": null,
   "metadata": {},
   "outputs": [],
   "source": []
  },
  {
   "cell_type": "markdown",
   "metadata": {},
   "source": [
    "# 5: Modeling\n",
    "\n",
    "Here we can decide to use one of two dataframes:\n",
    "\n",
    "- 1: Normal clean train dataframe(train)\n",
    "- 2: Balanced clean train dataframe(df_upsampled)"
   ]
  },
  {
   "cell_type": "code",
   "execution_count": 68,
   "metadata": {},
   "outputs": [],
   "source": [
    "X = train['message_clean']\n",
    "y = train['sentiment'] \n",
    "\n",
    "X_train , X_test , y_train , y_test = train_test_split(X , y, test_size =0.05, random_state =42)"
   ]
  },
  {
   "cell_type": "markdown",
   "metadata": {
    "papermill": {
     "duration": 0.023134,
     "end_time": "2020-10-17T17:14:43.889315",
     "exception": false,
     "start_time": "2020-10-17T17:14:43.866181",
     "status": "completed"
    },
    "tags": []
   },
   "source": [
    "### Turning text into something your model can read, we will make use of Pipeline package to vectorize and run our models\n",
    "\n",
    "Models:\n",
    "- 1: Linear Support Vector Classifier\n",
    "- 2: ......\n",
    "- 3: ......\n",
    "- 4: .....\n"
   ]
  },
  {
   "cell_type": "code",
   "execution_count": 69,
   "metadata": {},
   "outputs": [],
   "source": [
    "classifiers = [\n",
    "               LinearSVC(random_state=42),\n",
    "               ExtraTreesClassifier(),\n",
    "               LogisticRegression(random_state=42, n_jobs=1, max_iter=5000),\n",
    "               SGDClassifier(),\n",
    "               AdaBoostClassifier(),\n",
    "               KNeighborsClassifier(),\n",
    "               MultinomialNB(),\n",
    "               RidgeClassifier(),\n",
    "               RandomForestClassifier()\n",
    "    ]\n"
   ]
  },
  {
   "cell_type": "code",
   "execution_count": 70,
   "metadata": {},
   "outputs": [],
   "source": [
    "#Function to fit/test classifiers and return a performance summary                                             \n",
    "def model_assessment(classifiers, X_train, y_train, X_test,y_test):\n",
    "    \n",
    "    model_summary = {}\n",
    "    \n",
    "    # Pipeline to balance the classses and then to build the model\n",
    "    for clf in classifiers:\n",
    "        model = Pipeline([\n",
    "                    ('tfidf', TfidfVectorizer(stop_words='english',  min_df=1, max_df=0.9, ngram_range=(1, 2))),\n",
    "                    ('clf',clf)\n",
    "                          ])\n",
    "\n",
    "    # Execution Time Logging\n",
    "        start_time = time.time()\n",
    "        model.fit(X_train, y_train)\n",
    "        predictions = model.predict(X_test)\n",
    "        run_time = time.time()-start_time\n",
    "      \n",
    "    # Models Performance\n",
    "        model_summary[clf.__class__.__name__] = {\n",
    "          'F1-Macro':metrics.f1_score(y_test,predictions,average='macro'),\n",
    "          'F1-Accuracy':metrics.f1_score(y_test,predictions,average='micro'),\n",
    "          'F1-Weighted':metrics.f1_score(y_test,predictions,average='weighted'),\n",
    "          'Execution Time': run_time }\n",
    "      \n",
    "        \n",
    "    return pd.DataFrame.from_dict(model_summary, orient='index')"
   ]
  },
  {
   "cell_type": "code",
   "execution_count": 71,
   "metadata": {},
   "outputs": [
    {
     "name": "stderr",
     "output_type": "stream",
     "text": [
      "COMET ERROR: Failed to extract parameters from estimator\n",
      "COMET ERROR: Failed to extract parameters from estimator\n",
      "COMET ERROR: Failed to extract parameters from estimator\n"
     ]
    },
    {
     "name": "stdout",
     "output_type": "stream",
     "text": [
      "Wall time: 2min 28s\n"
     ]
    },
    {
     "data": {
      "text/html": [
       "<div>\n",
       "<style scoped>\n",
       "    .dataframe tbody tr th:only-of-type {\n",
       "        vertical-align: middle;\n",
       "    }\n",
       "\n",
       "    .dataframe tbody tr th {\n",
       "        vertical-align: top;\n",
       "    }\n",
       "\n",
       "    .dataframe thead th {\n",
       "        text-align: right;\n",
       "    }\n",
       "</style>\n",
       "<table border=\"1\" class=\"dataframe\">\n",
       "  <thead>\n",
       "    <tr style=\"text-align: right;\">\n",
       "      <th></th>\n",
       "      <th>F1-Macro</th>\n",
       "      <th>F1-Accuracy</th>\n",
       "      <th>F1-Weighted</th>\n",
       "      <th>Execution Time</th>\n",
       "    </tr>\n",
       "  </thead>\n",
       "  <tbody>\n",
       "    <tr>\n",
       "      <th>LinearSVC</th>\n",
       "      <td>0.706003</td>\n",
       "      <td>0.786346</td>\n",
       "      <td>0.773145</td>\n",
       "      <td>1.335453</td>\n",
       "    </tr>\n",
       "    <tr>\n",
       "      <th>RidgeClassifier</th>\n",
       "      <td>0.686667</td>\n",
       "      <td>0.774968</td>\n",
       "      <td>0.758995</td>\n",
       "      <td>1.202842</td>\n",
       "    </tr>\n",
       "    <tr>\n",
       "      <th>SGDClassifier</th>\n",
       "      <td>0.670172</td>\n",
       "      <td>0.769912</td>\n",
       "      <td>0.751909</td>\n",
       "      <td>1.241481</td>\n",
       "    </tr>\n",
       "    <tr>\n",
       "      <th>LogisticRegression</th>\n",
       "      <td>0.649375</td>\n",
       "      <td>0.756005</td>\n",
       "      <td>0.738006</td>\n",
       "      <td>15.827552</td>\n",
       "    </tr>\n",
       "    <tr>\n",
       "      <th>ExtraTreesClassifier</th>\n",
       "      <td>0.628157</td>\n",
       "      <td>0.734513</td>\n",
       "      <td>0.717859</td>\n",
       "      <td>79.136315</td>\n",
       "    </tr>\n",
       "    <tr>\n",
       "      <th>RandomForestClassifier</th>\n",
       "      <td>0.603440</td>\n",
       "      <td>0.705436</td>\n",
       "      <td>0.694623</td>\n",
       "      <td>43.302055</td>\n",
       "    </tr>\n",
       "    <tr>\n",
       "      <th>KNeighborsClassifier</th>\n",
       "      <td>0.605026</td>\n",
       "      <td>0.672566</td>\n",
       "      <td>0.668443</td>\n",
       "      <td>1.407305</td>\n",
       "    </tr>\n",
       "    <tr>\n",
       "      <th>AdaBoostClassifier</th>\n",
       "      <td>0.503308</td>\n",
       "      <td>0.639697</td>\n",
       "      <td>0.608199</td>\n",
       "      <td>4.191424</td>\n",
       "    </tr>\n",
       "    <tr>\n",
       "      <th>MultinomialNB</th>\n",
       "      <td>0.388446</td>\n",
       "      <td>0.658660</td>\n",
       "      <td>0.573410</td>\n",
       "      <td>0.827890</td>\n",
       "    </tr>\n",
       "  </tbody>\n",
       "</table>\n",
       "</div>"
      ],
      "text/plain": [
       "                        F1-Macro  F1-Accuracy  F1-Weighted  Execution Time\n",
       "LinearSVC               0.706003     0.786346     0.773145        1.335453\n",
       "RidgeClassifier         0.686667     0.774968     0.758995        1.202842\n",
       "SGDClassifier           0.670172     0.769912     0.751909        1.241481\n",
       "LogisticRegression      0.649375     0.756005     0.738006       15.827552\n",
       "ExtraTreesClassifier    0.628157     0.734513     0.717859       79.136315\n",
       "RandomForestClassifier  0.603440     0.705436     0.694623       43.302055\n",
       "KNeighborsClassifier    0.605026     0.672566     0.668443        1.407305\n",
       "AdaBoostClassifier      0.503308     0.639697     0.608199        4.191424\n",
       "MultinomialNB           0.388446     0.658660     0.573410        0.827890"
      ]
     },
     "execution_count": 71,
     "metadata": {},
     "output_type": "execute_result"
    }
   ],
   "source": [
    "%%time\n",
    "clf_performance_df = model_assessment(classifiers,X_train, y_train, X_test, y_test)\n",
    "ordered_clf_performance_df = clf_performance_df.sort_values('F1-Weighted',ascending=False)\n",
    "ordered_clf_performance_df"
   ]
  },
  {
   "cell_type": "code",
   "execution_count": 244,
   "metadata": {},
   "outputs": [
    {
     "data": {
      "text/plain": [
       "<AxesSubplot:>"
      ]
     },
     "execution_count": 244,
     "metadata": {},
     "output_type": "execute_result"
    },
    {
     "data": {
      "image/png": "[encoded data removed]",
      "text/plain": [
       "<Figure size 720x576 with 1 Axes>"
      ]
     },
     "metadata": {
      "needs_background": "light"
     },
     "output_type": "display_data"
    }
   ],
   "source": [
    "# Plot the results\n",
    "ordered_clf_performance_df.sort_values('F1-Weighted',ascending=True).plot(y='F1-Weighted', \n",
    "                                                            kind='barh', \n",
    "                                                            xlim=[0.5, 0.8], \n",
    "                                                            color= 'cyan', \n",
    "                                                            edgecolor = 'purple',\n",
    "                                                            figsize=(10, 8), \n",
    "                                                            fontsize=16)\n"
   ]
  },
  {
   "cell_type": "code",
   "execution_count": 27,
   "metadata": {},
   "outputs": [],
   "source": [
    "#Function to fit/test classifiers and return a performance summary                                             \n",
    "def model_assessment_CV(X,y):\n",
    "    \n",
    "    model_summary = []\n",
    "    \n",
    "    for clf in classifiers:\n",
    "        model = Pipeline([\n",
    "                    ('tfidf', TfidfVectorizer(stop_words='english',  min_df=1, max_df=0.9, ngram_range=(1, 2))),\n",
    "                    ('clf',clf)\n",
    "                          ])\n",
    "\n",
    "    # Execution Time Logging\n",
    "        start_time = time.time()\n",
    "        scores = cross_val_score(model, X=X, y=y, cv=5)\n",
    "        run_time = time.time()-start_time\n",
    "        model_summary.append([clf.__class__.__name__, scores.mean(), scores.std(), run_time])\n",
    "    \n",
    "    performace_summary = pd.DataFrame(model_summary, columns=['Model', 'CV_Mean', 'CV_Std','Execution Time'])\n",
    "    performace_summary.set_index('Model', inplace=True)\n",
    " \n",
    "    return performace_summary"
   ]
  },
  {
   "cell_type": "code",
   "execution_count": 28,
   "metadata": {},
   "outputs": [],
   "source": [
    "%%time\n",
    "CV_clf_performance_df = model_assessment_CV(X,y)"
   ]
  },
  {
   "cell_type": "code",
   "execution_count": 61,
   "metadata": {},
   "outputs": [],
   "source": [
    "ordered_CV_clf_performance_df = CV_clf_performance_df.sort_values('CV_Mean',ascending=False)"
   ]
  },
  {
   "cell_type": "code",
   "execution_count": 62,
   "metadata": {},
   "outputs": [],
   "source": [
    "# Save the results so we dont have to run it again\n",
    "ordered_CV_clf_performance_df.to_csv('ordered_CV_clf_performance_df.csv')"
   ]
  },
  {
   "cell_type": "code",
   "execution_count": 202,
   "metadata": {},
   "outputs": [
    {
     "data": {
      "text/html": [
       "<div>\n",
       "<style scoped>\n",
       "    .dataframe tbody tr th:only-of-type {\n",
       "        vertical-align: middle;\n",
       "    }\n",
       "\n",
       "    .dataframe tbody tr th {\n",
       "        vertical-align: top;\n",
       "    }\n",
       "\n",
       "    .dataframe thead th {\n",
       "        text-align: right;\n",
       "    }\n",
       "</style>\n",
       "<table border=\"1\" class=\"dataframe\">\n",
       "  <thead>\n",
       "    <tr style=\"text-align: right;\">\n",
       "      <th></th>\n",
       "      <th>CV_Mean</th>\n",
       "      <th>CV_Std</th>\n",
       "      <th>Execution Time</th>\n",
       "    </tr>\n",
       "    <tr>\n",
       "      <th>Model</th>\n",
       "      <th></th>\n",
       "      <th></th>\n",
       "      <th></th>\n",
       "    </tr>\n",
       "  </thead>\n",
       "  <tbody>\n",
       "    <tr>\n",
       "      <th>LinearSVC</th>\n",
       "      <td>0.753904</td>\n",
       "      <td>0.007763</td>\n",
       "      <td>5.458754</td>\n",
       "    </tr>\n",
       "    <tr>\n",
       "      <th>RidgeClassifier</th>\n",
       "      <td>0.749985</td>\n",
       "      <td>0.008328</td>\n",
       "      <td>9.932733</td>\n",
       "    </tr>\n",
       "    <tr>\n",
       "      <th>SGDClassifier</th>\n",
       "      <td>0.744675</td>\n",
       "      <td>0.007363</td>\n",
       "      <td>9.578883</td>\n",
       "    </tr>\n",
       "    <tr>\n",
       "      <th>LogisticRegression</th>\n",
       "      <td>0.728744</td>\n",
       "      <td>0.008132</td>\n",
       "      <td>78.864897</td>\n",
       "    </tr>\n",
       "    <tr>\n",
       "      <th>ExtraTreesClassifier</th>\n",
       "      <td>0.722612</td>\n",
       "      <td>0.008042</td>\n",
       "      <td>280.153271</td>\n",
       "    </tr>\n",
       "    <tr>\n",
       "      <th>RandomForestClassifier</th>\n",
       "      <td>0.697074</td>\n",
       "      <td>0.008338</td>\n",
       "      <td>290.783042</td>\n",
       "    </tr>\n",
       "    <tr>\n",
       "      <th>KNeighborsClassifier</th>\n",
       "      <td>0.643783</td>\n",
       "      <td>0.005295</td>\n",
       "      <td>24.445339</td>\n",
       "    </tr>\n",
       "    <tr>\n",
       "      <th>MultinomialNB</th>\n",
       "      <td>0.638283</td>\n",
       "      <td>0.003658</td>\n",
       "      <td>7.435782</td>\n",
       "    </tr>\n",
       "    <tr>\n",
       "      <th>AdaBoostClassifier</th>\n",
       "      <td>0.630192</td>\n",
       "      <td>0.008455</td>\n",
       "      <td>34.111243</td>\n",
       "    </tr>\n",
       "  </tbody>\n",
       "</table>\n",
       "</div>"
      ],
      "text/plain": [
       "                         CV_Mean    CV_Std  Execution Time\n",
       "Model                                                     \n",
       "LinearSVC               0.753904  0.007763        5.458754\n",
       "RidgeClassifier         0.749985  0.008328        9.932733\n",
       "SGDClassifier           0.744675  0.007363        9.578883\n",
       "LogisticRegression      0.728744  0.008132       78.864897\n",
       "ExtraTreesClassifier    0.722612  0.008042      280.153271\n",
       "RandomForestClassifier  0.697074  0.008338      290.783042\n",
       "KNeighborsClassifier    0.643783  0.005295       24.445339\n",
       "MultinomialNB           0.638283  0.003658        7.435782\n",
       "AdaBoostClassifier      0.630192  0.008455       34.111243"
      ]
     },
     "execution_count": 202,
     "metadata": {},
     "output_type": "execute_result"
    }
   ],
   "source": [
    "ordered_CV_clf_performance_df = pd.read_csv('ordered_CV_clf_performance_df.csv', index_col = 'Model')\n",
    "ordered_CV_clf_performance_df"
   ]
  },
  {
   "cell_type": "code",
   "execution_count": 245,
   "metadata": {},
   "outputs": [
    {
     "data": {
      "text/plain": [
       "<AxesSubplot:ylabel='Model'>"
      ]
     },
     "execution_count": 245,
     "metadata": {},
     "output_type": "execute_result"
    },
    {
     "data": {
      "image/png": "[encoded data removed]",
      "text/plain": [
       "<Figure size 720x576 with 1 Axes>"
      ]
     },
     "metadata": {
      "needs_background": "light"
     },
     "output_type": "display_data"
    }
   ],
   "source": [
    "# Plot the results\n",
    "ordered_CV_clf_performance_df.sort_values('CV_Mean',ascending=True).plot(y='CV_Mean', \\\n",
    "                                                                yerr='CV_Std', \n",
    "                                                                kind='barh', \n",
    "                                                                xlim=[0.6, 0.76],\n",
    "                                                                color= 'cyan', \n",
    "                                                                edgecolor = 'purple',        \n",
    "                                                                figsize=(10, 8), \n",
    "                                                                fontsize=16)"
   ]
  },
  {
   "cell_type": "code",
   "execution_count": null,
   "metadata": {},
   "outputs": [],
   "source": []
  },
  {
   "cell_type": "markdown",
   "metadata": {},
   "source": [
    "# 5.1: Hyperparameter Tuning\n",
    "\n",
    "\n",
    "Let's tune the hyperparameters of our 4 best models to improve their ability to classify the tweets. "
   ]
  },
  {
   "cell_type": "code",
   "execution_count": 26,
   "metadata": {},
   "outputs": [],
   "source": [
    "classifiers = [\n",
    "               LinearSVC(random_state=42),\n",
    "               LogisticRegression(random_state=42, n_jobs=1, max_iter=5000),\n",
    "               SGDClassifier(),\n",
    "               RidgeClassifier()\n",
    "    ]"
   ]
  },
  {
   "cell_type": "markdown",
   "metadata": {},
   "source": [
    "First, let's define a function to see what their current hyperparameters are."
   ]
  },
  {
   "cell_type": "code",
   "execution_count": 27,
   "metadata": {},
   "outputs": [],
   "source": [
    "def get_hyperparams(classifiers, X_train, y_train):\n",
    "    \n",
    "    model_params = {}\n",
    "  \n",
    "    for clf in classifiers:\n",
    "        model = Pipeline([\n",
    "                    ('tfidf', TfidfVectorizer(stop_words='english',  min_df=1, max_df=0.9, ngram_range=(1, 2))),\n",
    "                    ('clf',clf)\n",
    "                          ])\n",
    "        \n",
    "        model.fit(X_train, y_train)\n",
    "        \n",
    "        params = model.get_params()\n",
    "        model_name = clf.__class__.__name__ \n",
    "        model_name = {}\n",
    "        \n",
    "        for key in params:\n",
    "            if key.startswith(\"clf\"):\n",
    "                if len(key) < 5:\n",
    "                    model_name['model'] = params[key]\n",
    "                else:\n",
    "                    model_name[key[5:]] = params[key]\n",
    "        \n",
    "        model_params[clf.__class__.__name__] = model_name\n",
    "        \n",
    "    return model_params"
   ]
  },
  {
   "cell_type": "code",
   "execution_count": 17,
   "metadata": {},
   "outputs": [],
   "source": [
    "X = train['message_clean']\n",
    "y = train['sentiment'] \n",
    "\n",
    "X_train , X_test , y_train , y_test = train_test_split(X , y, test_size =0.05, random_state =42)"
   ]
  },
  {
   "cell_type": "code",
   "execution_count": 18,
   "metadata": {
    "scrolled": false
   },
   "outputs": [],
   "source": [
    "%%time\n",
    "model_params = get_hyperparams(classifiers, X_train, y_train)"
   ]
  },
  {
   "cell_type": "code",
   "execution_count": 19,
   "metadata": {
    "scrolled": true
   },
   "outputs": [
    {
     "data": {
      "text/plain": [
       "{'model': LinearSVC(random_state=42),\n",
       " 'C': 1.0,\n",
       " 'class_weight': None,\n",
       " 'dual': True,\n",
       " 'fit_intercept': True,\n",
       " 'intercept_scaling': 1,\n",
       " 'loss': 'squared_hinge',\n",
       " 'max_iter': 1000,\n",
       " 'multi_class': 'ovr',\n",
       " 'penalty': 'l2',\n",
       " 'random_state': 42,\n",
       " 'tol': 0.0001,\n",
       " 'verbose': 0}"
      ]
     },
     "execution_count": 19,
     "metadata": {},
     "output_type": "execute_result"
    }
   ],
   "source": [
    "model_params[classifiers[0].__class__.__name__]  # classifiers[0] == LinearSVC"
   ]
  },
  {
   "cell_type": "markdown",
   "metadata": {},
   "source": [
    "##  Grid Search CV\n",
    "\n",
    "We'll use GridSearchCV to tune the hyperparamerts of our models."
   ]
  },
  {
   "cell_type": "code",
   "execution_count": 108,
   "metadata": {},
   "outputs": [],
   "source": [
    "# Prep the data\n",
    "\n",
    "X = train['message_clean']\n",
    "y = train['sentiment'] \n",
    "\n",
    "vect = TfidfVectorizer(stop_words='english',  min_df=1, max_df=0.9, ngram_range=(1, 2))\n",
    "X_vectorized = vect.fit_transform(X)\n",
    "\n",
    "X_train , X_test , y_train , y_test = train_test_split(X_vectorized, y, test_size=0.05, random_state =42)"
   ]
  },
  {
   "cell_type": "markdown",
   "metadata": {},
   "source": [
    "### Ridge Classifier"
   ]
  },
  {
   "cell_type": "code",
   "execution_count": 166,
   "metadata": {},
   "outputs": [
    {
     "data": {
      "text/plain": [
       "{'model': RidgeClassifier(),\n",
       " 'alpha': 1.0,\n",
       " 'class_weight': None,\n",
       " 'copy_X': True,\n",
       " 'fit_intercept': True,\n",
       " 'max_iter': None,\n",
       " 'normalize': False,\n",
       " 'random_state': None,\n",
       " 'solver': 'auto',\n",
       " 'tol': 0.001}"
      ]
     },
     "execution_count": 166,
     "metadata": {},
     "output_type": "execute_result"
    }
   ],
   "source": [
    "#Current Hyperparameters\n",
    "model_params[classifiers[3].__class__.__name__]"
   ]
  },
  {
   "cell_type": "code",
   "execution_count": 61,
   "metadata": {
    "scrolled": true
   },
   "outputs": [
    {
     "name": "stdout",
     "output_type": "stream",
     "text": [
      "Wall time: 1min 46s\n"
     ]
    }
   ],
   "source": [
    "%%time\n",
    "# define model and params\n",
    "\n",
    "model = RidgeClassifier()\n",
    "alpha = list(np.linspace(0.17,0.24,8))\n",
    "class_weight = [None]\n",
    "\n",
    "\n",
    "grid = dict(alpha=alpha, class_weight=class_weight)\n",
    "\n",
    "cv = RepeatedStratifiedKFold(n_splits=6, n_repeats=4, random_state=1)\n",
    "\n",
    "ridge = GridSearchCV(estimator=model, param_grid=grid, n_jobs=-1, cv=cv, scoring='accuracy',error_score=0)\n",
    "\n",
    "ridge.fit(X_train, y_train)\n",
    "\n",
    "y_pred = ridge.predict(X_test)\n",
    "f1_macro = metrics.f1_score(y_test, y_pred, average='macro')\n",
    "f1_weighted = metrics.f1_score(y_test, y_pred, average='weighted')\n",
    "\n",
    "experiment.log_dataset_hash(X_train)\n",
    "experiment.log_parameters({\"model_type\": \"Ridge Classifier\", \"param_grid\": grid})\n",
    "experiment.log_metrics({'F1 Macro': f1_macro, \"Accuracy\": f1_weighted})"
   ]
  },
  {
   "cell_type": "code",
   "execution_count": 62,
   "metadata": {},
   "outputs": [
    {
     "name": "stdout",
     "output_type": "stream",
     "text": [
      "0.7445604265377659\n",
      "{'alpha': 0.24, 'class_weight': None}\n",
      "RidgeClassifier(alpha=0.24)\n"
     ]
    }
   ],
   "source": [
    "print(ridge.best_score_)\n",
    "print(ridge.best_params_) \n",
    "print(ridge.best_estimator_) "
   ]
  },
  {
   "cell_type": "markdown",
   "metadata": {},
   "source": [
    "### Logistic Regression"
   ]
  },
  {
   "cell_type": "code",
   "execution_count": 177,
   "metadata": {},
   "outputs": [
    {
     "data": {
      "text/plain": [
       "{'model': LogisticRegression(max_iter=5000, n_jobs=1, random_state=42),\n",
       " 'C': 1.0,\n",
       " 'class_weight': None,\n",
       " 'dual': False,\n",
       " 'fit_intercept': True,\n",
       " 'intercept_scaling': 1,\n",
       " 'l1_ratio': None,\n",
       " 'max_iter': 5000,\n",
       " 'multi_class': 'auto',\n",
       " 'n_jobs': 1,\n",
       " 'penalty': 'l2',\n",
       " 'random_state': 42,\n",
       " 'solver': 'lbfgs',\n",
       " 'tol': 0.0001,\n",
       " 'verbose': 0,\n",
       " 'warm_start': False}"
      ]
     },
     "execution_count": 177,
     "metadata": {},
     "output_type": "execute_result"
    }
   ],
   "source": [
    "#Current Hyperparameters\n",
    "model_params[classifiers[1].__class__.__name__]"
   ]
  },
  {
   "cell_type": "code",
   "execution_count": 64,
   "metadata": {},
   "outputs": [
    {
     "name": "stdout",
     "output_type": "stream",
     "text": [
      "Wall time: 1h 22min 47s\n"
     ]
    }
   ],
   "source": [
    "%%time\n",
    "# !!! dont run this cell, takes 1hr22m to execute\n",
    "\n",
    "# define model and params\n",
    "\n",
    "model = LogisticRegression()\n",
    "\n",
    "c_values = [150, 100, 10, 1.0, 0.5]\n",
    "penalty = ['l2']\n",
    "solvers = ['lbfgs']\n",
    "max_iter = [6000, 5000]\n",
    "\n",
    "grid = dict(solver=solvers, penalty=penalty, C=c_values, max_iter=max_iter)\n",
    "\n",
    "cv = RepeatedStratifiedKFold(n_splits=6, n_repeats=4, random_state=1)\n",
    "logistic = GridSearchCV(estimator=model, param_grid=grid, n_jobs=-1, cv=cv, scoring='accuracy',error_score=0)\n",
    "logistic.fit(X_train, y_train)\n",
    "\n",
    "y_pred = logistic.predict(X_test)\n",
    "f1_macro = metrics.f1_score(y_test, y_pred, average='macro')\n",
    "f1_weighted = metrics.f1_score(y_test, y_pred, average='weighted')\n",
    "\n",
    "\n",
    "experiment.log_parameters({\"model_type\": \"Logistic Regression\", \"param_grid\": grid})\n",
    "experiment.log_metrics({'F1 Macro': f1_macro, \"Accuracy\": f1_weighted})"
   ]
  },
  {
   "cell_type": "code",
   "execution_count": 65,
   "metadata": {},
   "outputs": [
    {
     "name": "stdout",
     "output_type": "stream",
     "text": [
      "0.7445436868541936\n",
      "{'C': 100, 'max_iter': 6000, 'penalty': 'l2', 'solver': 'lbfgs'}\n",
      "LogisticRegression(C=100, max_iter=6000)\n"
     ]
    }
   ],
   "source": [
    "print(logistic.best_score_)\n",
    "print(logistic.best_params_) \n",
    "print(logistic.best_estimator_) "
   ]
  },
  {
   "cell_type": "code",
   "execution_count": 67,
   "metadata": {},
   "outputs": [
    {
     "name": "stdout",
     "output_type": "stream",
     "text": [
      "              precision    recall  f1-score   support\n",
      "\n",
      "          -1       0.78      0.46      0.58        61\n",
      "           0       0.69      0.39      0.50       123\n",
      "           1       0.78      0.91      0.84       441\n",
      "           2       0.82      0.83      0.82       166\n",
      "\n",
      "    accuracy                           0.78       791\n",
      "   macro avg       0.76      0.65      0.68       791\n",
      "weighted avg       0.77      0.78      0.76       791\n",
      "\n",
      "0.7619583543886658\n"
     ]
    }
   ],
   "source": [
    "print(metrics.classification_report(y_test, y_pred))\n",
    "print(metrics.f1_score(y_test, y_pred, average='weighted'))"
   ]
  },
  {
   "cell_type": "markdown",
   "metadata": {},
   "source": [
    "### Stochastic Gradient Descent Classifier"
   ]
  },
  {
   "cell_type": "code",
   "execution_count": 185,
   "metadata": {},
   "outputs": [
    {
     "data": {
      "text/plain": [
       "{'model': SGDClassifier(),\n",
       " 'alpha': 0.0001,\n",
       " 'average': False,\n",
       " 'class_weight': None,\n",
       " 'early_stopping': False,\n",
       " 'epsilon': 0.1,\n",
       " 'eta0': 0.0,\n",
       " 'fit_intercept': True,\n",
       " 'l1_ratio': 0.15,\n",
       " 'learning_rate': 'optimal',\n",
       " 'loss': 'hinge',\n",
       " 'max_iter': 1000,\n",
       " 'n_iter_no_change': 5,\n",
       " 'n_jobs': None,\n",
       " 'penalty': 'l2',\n",
       " 'power_t': 0.5,\n",
       " 'random_state': None,\n",
       " 'shuffle': True,\n",
       " 'tol': 0.001,\n",
       " 'validation_fraction': 0.1,\n",
       " 'verbose': 0,\n",
       " 'warm_start': False}"
      ]
     },
     "execution_count": 185,
     "metadata": {},
     "output_type": "execute_result"
    }
   ],
   "source": [
    "#Current Hyperparameters\n",
    "model_params[classifiers[2].__class__.__name__]"
   ]
  },
  {
   "cell_type": "code",
   "execution_count": 88,
   "metadata": {},
   "outputs": [
    {
     "name": "stdout",
     "output_type": "stream",
     "text": [
      "Wall time: 39.7 s\n"
     ]
    }
   ],
   "source": [
    "%%time\n",
    "# define model and params\n",
    "model = SGDClassifier()\n",
    "alpha = [0.00002, 0.000015, 0.000017, 0.000018]\n",
    "power_t = [0.32, 0.3, 0.28]\n",
    "penalty = ['l2']\n",
    "max_iter = [6000]\n",
    "\n",
    "# define grid search\n",
    "grid = dict(penalty=penalty, alpha=alpha, max_iter=max_iter, power_t=power_t)\n",
    "\n",
    "cv = RepeatedStratifiedKFold(n_splits=6, n_repeats=4, random_state=1)\n",
    "sgd = GridSearchCV(estimator=model, param_grid=grid, n_jobs=-1, cv=cv, scoring='accuracy',error_score=0)\n",
    "sgd.fit(X_train, y_train)\n",
    "\n",
    "y_pred = sgd.predict(X_test)\n",
    "f1_macro = metrics.f1_score(y_test, y_pred, average='macro')\n",
    "f1_weighted = metrics.f1_score(y_test, y_pred, average='weighted')\n",
    "\n",
    "\n",
    "experiment.log_parameters({\"model_type\": \"Logistic Regression\", \"param_grid\": grid})\n",
    "experiment.log_metrics({'F1 Macro': f1_macro, \"Accuracy\": f1_weighted})"
   ]
  },
  {
   "cell_type": "code",
   "execution_count": 89,
   "metadata": {},
   "outputs": [
    {
     "name": "stdout",
     "output_type": "stream",
     "text": [
      "0.7472554292373719\n",
      "{'alpha': 2e-05, 'max_iter': 6000, 'penalty': 'l2', 'power_t': 0.32}\n",
      "SGDClassifier(alpha=2e-05, max_iter=6000, power_t=0.32)\n"
     ]
    }
   ],
   "source": [
    "print(sgd.best_score_)\n",
    "print(sgd.best_params_) \n",
    "print(sgd.best_estimator_) "
   ]
  },
  {
   "cell_type": "code",
   "execution_count": 90,
   "metadata": {},
   "outputs": [
    {
     "name": "stdout",
     "output_type": "stream",
     "text": [
      "              precision    recall  f1-score   support\n",
      "\n",
      "          -1       0.75      0.49      0.59        61\n",
      "           0       0.66      0.41      0.51       123\n",
      "           1       0.79      0.90      0.84       441\n",
      "           2       0.81      0.86      0.83       166\n",
      "\n",
      "    accuracy                           0.78       791\n",
      "   macro avg       0.75      0.66      0.69       791\n",
      "weighted avg       0.77      0.78      0.77       791\n",
      "\n",
      "0.7696406834673507\n"
     ]
    }
   ],
   "source": [
    "print(metrics.classification_report(y_test, y_pred))\n",
    "print(metrics.f1_score(y_test, y_pred, average='weighted'))"
   ]
  },
  {
   "cell_type": "markdown",
   "metadata": {},
   "source": [
    "### Linear SVC "
   ]
  },
  {
   "cell_type": "code",
   "execution_count": 186,
   "metadata": {},
   "outputs": [
    {
     "data": {
      "text/plain": [
       "{'model': LinearSVC(random_state=42),\n",
       " 'C': 1.0,\n",
       " 'class_weight': None,\n",
       " 'dual': True,\n",
       " 'fit_intercept': True,\n",
       " 'intercept_scaling': 1,\n",
       " 'loss': 'squared_hinge',\n",
       " 'max_iter': 1000,\n",
       " 'multi_class': 'ovr',\n",
       " 'penalty': 'l2',\n",
       " 'random_state': 42,\n",
       " 'tol': 0.0001,\n",
       " 'verbose': 0}"
      ]
     },
     "execution_count": 186,
     "metadata": {},
     "output_type": "execute_result"
    }
   ],
   "source": [
    "#Current Hyperparameters\n",
    "model_params[classifiers[0].__class__.__name__]"
   ]
  },
  {
   "cell_type": "code",
   "execution_count": 115,
   "metadata": {},
   "outputs": [
    {
     "name": "stdout",
     "output_type": "stream",
     "text": [
      "Wall time: 51 s\n"
     ]
    }
   ],
   "source": [
    "%%time\n",
    "# define model and params\n",
    "\n",
    "model = LinearSVC()\n",
    "C = [1, 1.3]\n",
    "max_iter = [1000]\n",
    "class_weight = ['balanced', None]\n",
    "\n",
    "grid = dict(C=C, max_iter=max_iter, class_weight=class_weight)\n",
    "\n",
    "cv = RepeatedStratifiedKFold(n_splits=6, n_repeats=4, random_state=1)\n",
    "lsvc = GridSearchCV(estimator=model, param_grid=grid, n_jobs=-1, cv=cv, scoring='accuracy',error_score=0)\n",
    "lsvc.fit(X_train, y_train)\n",
    "\n",
    "y_pred = lsvc.predict(X_test)\n",
    "f1_macro = metrics.f1_score(y_test, y_pred, average='macro')\n",
    "f1_weighted = metrics.f1_score(y_test, y_pred, average='weighted')\n",
    "\n",
    "\n",
    "experiment.log_parameters({\"model_type\": \"Logistic Regression\", \"param_grid\": grid})\n",
    "experiment.log_metrics({'F1 Macro': f1_macro, \"Accuracy\": f1_weighted})"
   ]
  },
  {
   "cell_type": "code",
   "execution_count": 116,
   "metadata": {},
   "outputs": [
    {
     "name": "stdout",
     "output_type": "stream",
     "text": [
      "0.7511315295394302\n",
      "{'C': 1, 'class_weight': 'balanced', 'max_iter': 1000}\n",
      "LinearSVC(C=1, class_weight='balanced')\n"
     ]
    }
   ],
   "source": [
    "print(lsvc.best_score_)\n",
    "print(lsvc.best_params_) \n",
    "print(lsvc.best_estimator_) "
   ]
  },
  {
   "cell_type": "code",
   "execution_count": 117,
   "metadata": {},
   "outputs": [
    {
     "name": "stdout",
     "output_type": "stream",
     "text": [
      "              precision    recall  f1-score   support\n",
      "\n",
      "          -1       0.72      0.56      0.63        61\n",
      "           0       0.64      0.47      0.54       123\n",
      "           1       0.82      0.86      0.84       441\n",
      "           2       0.78      0.87      0.82       166\n",
      "\n",
      "    accuracy                           0.78       791\n",
      "   macro avg       0.74      0.69      0.71       791\n",
      "weighted avg       0.77      0.78      0.77       791\n",
      "\n",
      "0.7724148569820287\n"
     ]
    }
   ],
   "source": [
    "print(metrics.classification_report(y_test, y_pred))\n",
    "print(metrics.f1_score(y_test, y_pred, average='weighted'))"
   ]
  },
  {
   "cell_type": "code",
   "execution_count": 119,
   "metadata": {},
   "outputs": [],
   "source": [
    "experiment.end()"
   ]
  },
  {
   "cell_type": "markdown",
   "metadata": {},
   "source": [
    "# 5.2: Model Assessment"
   ]
  },
  {
   "cell_type": "markdown",
   "metadata": {},
   "source": [
    "Let's train our newly tuned models and assess their accuracy."
   ]
  },
  {
   "cell_type": "code",
   "execution_count": 121,
   "metadata": {},
   "outputs": [],
   "source": [
    "X = train['message_clean']\n",
    "y = train['sentiment'] \n",
    "X_train , X_test , y_train , y_test = train_test_split(X , y, test_size =0.05, random_state =42)"
   ]
  },
  {
   "cell_type": "code",
   "execution_count": 127,
   "metadata": {},
   "outputs": [],
   "source": [
    "best_classifiers = [ \n",
    "                     LinearSVC(C = 1, max_iter= 1000),\n",
    "                     LogisticRegression(C= 100, max_iter= 6000, penalty= 'l2', solver= 'lbfgs', n_jobs=1),\n",
    "                     SGDClassifier(alpha=2e-05, max_iter= 6000, penalty='l2', power_t= 0.32),\n",
    "                     RidgeClassifier(alpha=0.24)\n",
    "    ]"
   ]
  },
  {
   "cell_type": "code",
   "execution_count": 128,
   "metadata": {},
   "outputs": [
    {
     "name": "stdout",
     "output_type": "stream",
     "text": [
      "Wall time: 55.7 s\n"
     ]
    },
    {
     "data": {
      "text/html": [
       "<div>\n",
       "<style scoped>\n",
       "    .dataframe tbody tr th:only-of-type {\n",
       "        vertical-align: middle;\n",
       "    }\n",
       "\n",
       "    .dataframe tbody tr th {\n",
       "        vertical-align: top;\n",
       "    }\n",
       "\n",
       "    .dataframe thead th {\n",
       "        text-align: right;\n",
       "    }\n",
       "</style>\n",
       "<table border=\"1\" class=\"dataframe\">\n",
       "  <thead>\n",
       "    <tr style=\"text-align: right;\">\n",
       "      <th></th>\n",
       "      <th>F1-Macro</th>\n",
       "      <th>F1-Accuracy</th>\n",
       "      <th>F1-Weighted</th>\n",
       "      <th>Execution Time</th>\n",
       "    </tr>\n",
       "  </thead>\n",
       "  <tbody>\n",
       "    <tr>\n",
       "      <th>LinearSVC</th>\n",
       "      <td>0.706003</td>\n",
       "      <td>0.786346</td>\n",
       "      <td>0.773145</td>\n",
       "      <td>1.332275</td>\n",
       "    </tr>\n",
       "    <tr>\n",
       "      <th>LogisticRegression</th>\n",
       "      <td>0.703153</td>\n",
       "      <td>0.781290</td>\n",
       "      <td>0.770756</td>\n",
       "      <td>51.758541</td>\n",
       "    </tr>\n",
       "    <tr>\n",
       "      <th>RidgeClassifier</th>\n",
       "      <td>0.698101</td>\n",
       "      <td>0.780025</td>\n",
       "      <td>0.766939</td>\n",
       "      <td>1.453779</td>\n",
       "    </tr>\n",
       "    <tr>\n",
       "      <th>SGDClassifier</th>\n",
       "      <td>0.696902</td>\n",
       "      <td>0.776233</td>\n",
       "      <td>0.764144</td>\n",
       "      <td>1.077737</td>\n",
       "    </tr>\n",
       "  </tbody>\n",
       "</table>\n",
       "</div>"
      ],
      "text/plain": [
       "                    F1-Macro  F1-Accuracy  F1-Weighted  Execution Time\n",
       "LinearSVC           0.706003     0.786346     0.773145        1.332275\n",
       "LogisticRegression  0.703153     0.781290     0.770756       51.758541\n",
       "RidgeClassifier     0.698101     0.780025     0.766939        1.453779\n",
       "SGDClassifier       0.696902     0.776233     0.764144        1.077737"
      ]
     },
     "execution_count": 128,
     "metadata": {},
     "output_type": "execute_result"
    }
   ],
   "source": [
    "%%time\n",
    "best_performing_df = model_assessment(best_classifiers,X_train, y_train, X_test, y_test)\n",
    "ordered_best_performing_df = best_performing_df.sort_values('F1-Weighted',ascending=False)\n",
    "ordered_best_performing_df"
   ]
  },
  {
   "cell_type": "code",
   "execution_count": 246,
   "metadata": {},
   "outputs": [
    {
     "data": {
      "image/png": "[encoded data removed]",
      "text/plain": [
       "<Figure size 720x360 with 1 Axes>"
      ]
     },
     "metadata": {
      "needs_background": "light"
     },
     "output_type": "display_data"
    }
   ],
   "source": [
    "# The results\n",
    "after = ordered_best_performing_df.sort_values('F1-Weighted',ascending=True)\n",
    "before = ordered_clf_performance_df.sort_values('F1-Weighted',ascending=True)\n",
    "\n",
    "fig, ax = plt.subplots(figsize=(10, 5))\n",
    "ax.set_xlim([0.5, 0.8])\n",
    "plt.rcParams['font.size'] = '12'\n",
    "\n",
    "hyperparams_2 = after['F1-Weighted'].index\n",
    "hyperparams_1 = before['F1-Weighted'].index\n",
    "f12 = after['F1-Weighted']\n",
    "f11 = before['F1-Weighted'][hyperparams_2]\n",
    "\n",
    "after_tuning = ax.barh(y= hyperparams_2, width= f12, height =0.3, color= 'blue', \n",
    "                                   edgecolor = 'purple',label = 'AFTER TUNING')\n",
    "before_tuning = ax.barh(y=hyperparams_2, width= f11, height =0.3, color= 'cyan', \n",
    "                        edgecolor = 'purple', label = 'BEFORE TUNING')\n",
    "ax.set_title('F1-Weighted Score')\n",
    "\n",
    "ax.legend()\n",
    "plt.show()"
   ]
  },
  {
   "cell_type": "markdown",
   "metadata": {},
   "source": [
    "...something about the performance of the models"
   ]
  },
  {
   "cell_type": "code",
   "execution_count": null,
   "metadata": {},
   "outputs": [],
   "source": []
  },
  {
   "cell_type": "markdown",
   "metadata": {},
   "source": [
    "## 5.3: Best Model"
   ]
  },
  {
   "cell_type": "code",
   "execution_count": 97,
   "metadata": {
    "execution": {
     "iopub.execute_input": "2020-10-17T17:14:43.840031Z",
     "iopub.status.busy": "2020-10-17T17:14:43.839325Z",
     "iopub.status.idle": "2020-10-17T17:14:43.841837Z",
     "shell.execute_reply": "2020-10-17T17:14:43.842343Z"
    },
    "papermill": {
     "duration": 0.031193,
     "end_time": "2020-10-17T17:14:43.842493",
     "exception": false,
     "start_time": "2020-10-17T17:14:43.811300",
     "status": "completed"
    },
    "tags": []
   },
   "outputs": [],
   "source": [
    "X = train['message_clean']\n",
    "y = train['sentiment'] \n",
    "\n",
    "X_train , X_test , y_train , y_test = train_test_split(X , y, test_size =0.05, random_state =42)"
   ]
  },
  {
   "cell_type": "code",
   "execution_count": 98,
   "metadata": {
    "execution": {
     "iopub.execute_input": "2020-10-17T17:14:43.975378Z",
     "iopub.status.busy": "2020-10-17T17:14:43.965037Z",
     "iopub.status.idle": "2020-10-17T17:14:45.976189Z",
     "shell.execute_reply": "2020-10-17T17:14:45.975539Z"
    },
    "papermill": {
     "duration": 2.063372,
     "end_time": "2020-10-17T17:14:45.976313",
     "exception": false,
     "start_time": "2020-10-17T17:14:43.912941",
     "status": "completed"
    },
    "tags": []
   },
   "outputs": [
    {
     "name": "stdout",
     "output_type": "stream",
     "text": [
      "Wall time: 1.54 s\n"
     ]
    },
    {
     "data": {
      "text/plain": [
       "Pipeline(steps=[('tfidf',\n",
       "                 TfidfVectorizer(max_df=0.9, ngram_range=(1, 2),\n",
       "                                 stop_words='english')),\n",
       "                ('classification', LinearSVC())])"
      ]
     },
     "execution_count": 98,
     "metadata": {},
     "output_type": "execute_result"
    }
   ],
   "source": [
    "%%time\n",
    "#Pipeline to for vect and training\n",
    "Model_1_pipe = Pipeline([\n",
    "                        ('tfidf', TfidfVectorizer(stop_words='english',  min_df=1, max_df=0.9, ngram_range=(1, 2))), \n",
    "                        ('classification', LinearSVC()) \n",
    "                        ])\n",
    "\n",
    "#Fitting our Linear SVC model\n",
    "Model_1_pipe.fit(X_train, y_train)\n"
   ]
  },
  {
   "cell_type": "markdown",
   "metadata": {},
   "source": [
    "### After fitting our model now we predict and evaluate our model"
   ]
  },
  {
   "cell_type": "code",
   "execution_count": 100,
   "metadata": {},
   "outputs": [],
   "source": [
    "#Prediting our findings of our model and see how accurate it is.\n",
    "y_pred_lsvc = Model_1_pipe.predict(X_test)"
   ]
  },
  {
   "cell_type": "code",
   "execution_count": 102,
   "metadata": {},
   "outputs": [
    {
     "name": "stdout",
     "output_type": "stream",
     "text": [
      "Model: Linear SVC Metrics\n",
      "0.7731445060771621\n"
     ]
    }
   ],
   "source": [
    "print(\"Model: Linear SVC Metrics\")\n",
    "print(metrics.f1_score(y_test, y_pred_lsvc, average='weighted'))"
   ]
  },
  {
   "cell_type": "markdown",
   "metadata": {},
   "source": [
    "### As we can see our model predicts very accurate on our train test and split data with a +95%, now we will go and use the model on our unseen test data"
   ]
  },
  {
   "cell_type": "markdown",
   "metadata": {},
   "source": [
    "# 6: Use best model on our test/real word data"
   ]
  },
  {
   "cell_type": "code",
   "execution_count": null,
   "metadata": {},
   "outputs": [],
   "source": [
    "#Using our pipeline best model to predict our findings\n",
    "test['sentiment'] = Main_final.predict(test['message_clean'])"
   ]
  },
  {
   "cell_type": "code",
   "execution_count": null,
   "metadata": {},
   "outputs": [],
   "source": [
    "#Viewing our new data for sentiment in test dataframe\n",
    "test.head()"
   ]
  },
  {
   "cell_type": "markdown",
   "metadata": {},
   "source": [
    "# 7: Conclusion"
   ]
  },
  {
   "cell_type": "code",
   "execution_count": null,
   "metadata": {},
   "outputs": [],
   "source": []
  },
  {
   "cell_type": "code",
   "execution_count": null,
   "metadata": {},
   "outputs": [],
   "source": []
  },
  {
   "cell_type": "markdown",
   "metadata": {
    "papermill": {
     "duration": 0.025423,
     "end_time": "2020-10-17T17:14:47.975931",
     "exception": false,
     "start_time": "2020-10-17T17:14:47.950508",
     "status": "completed"
    },
    "tags": []
   },
   "source": [
    "# 8: Submission\n",
    " Creating an output csv for submission"
   ]
  },
  {
   "cell_type": "code",
   "execution_count": 26,
   "metadata": {
    "execution": {
     "iopub.execute_input": "2020-10-17T17:14:48.034549Z",
     "iopub.status.busy": "2020-10-17T17:14:48.033748Z",
     "iopub.status.idle": "2020-10-17T17:14:48.320640Z",
     "shell.execute_reply": "2020-10-17T17:14:48.319822Z"
    },
    "papermill": {
     "duration": 0.318821,
     "end_time": "2020-10-17T17:14:48.320766",
     "exception": false,
     "start_time": "2020-10-17T17:14:48.001945",
     "status": "completed"
    },
    "tags": []
   },
   "outputs": [],
   "source": [
    "#Submission in our kaggle format\n",
    "submission = test[['tweetid', 'sentiment']]\n",
    "submission.to_csv('LSVC.csv',index=False)"
   ]
  },
  {
   "cell_type": "markdown",
   "metadata": {
    "papermill": {
     "duration": 0.025947,
     "end_time": "2020-10-17T17:14:48.373674",
     "exception": false,
     "start_time": "2020-10-17T17:14:48.347727",
     "status": "completed"
    },
    "tags": []
   },
   "source": []
  }
 ],
 "metadata": {
  "kernelspec": {
   "display_name": "Python 3",
   "language": "python",
   "name": "python3"
  },
  "language_info": {
   "codemirror_mode": {
    "name": "ipython",
    "version": 3
   },
   "file_extension": ".py",
   "mimetype": "text/x-python",
   "name": "python",
   "nbconvert_exporter": "python",
   "pygments_lexer": "ipython3",
   "version": "3.8.5"
  },
  "papermill": {
   "duration": 11.685417,
   "end_time": "2020-10-17T17:14:48.507017",
   "environment_variables": {},
   "exception": null,
   "input_path": "__notebook__.ipynb",
   "output_path": "__notebook__.ipynb",
   "parameters": {},
   "start_time": "2020-10-17T17:14:36.821600",
   "version": "2.1.0"
  }
 },
 "nbformat": 4,
 "nbformat_minor": 4
}
